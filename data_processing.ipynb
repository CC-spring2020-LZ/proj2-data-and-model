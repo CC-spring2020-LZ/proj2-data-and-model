{
 "cells": [
  {
   "cell_type": "code",
   "execution_count": 1,
   "metadata": {},
   "outputs": [],
   "source": [
    "import boto3\n",
    "import json\n",
    "import csv\n",
    "from decimal import Decimal"
   ]
  },
  {
   "cell_type": "markdown",
   "metadata": {},
   "source": [
    "### Make csv files "
   ]
  },
  {
   "cell_type": "code",
   "execution_count": 2,
   "metadata": {
    "scrolled": true
   },
   "outputs": [],
   "source": [
    "with open(\"yelp_dataset/business.json\", \"r\") as json_file:\n",
    "    data = [json.loads(line) for line in json_file]\n",
    "    data_to_csv = []\n",
    "    for i in data:\n",
    "            try:\n",
    "                adj = {}\n",
    "                adj['business_id'] = i['business_id']\n",
    "                adj['name'] = i['name']\n",
    "                adj['latitude'] = i['latitude']\n",
    "                adj['longitude'] = i['longitude']\n",
    "                adj['stars'] = i['stars']\n",
    "                data_to_csv.append(adj)  \n",
    "            except:\n",
    "                continue"
   ]
  },
  {
   "cell_type": "code",
   "execution_count": 3,
   "metadata": {},
   "outputs": [],
   "source": [
    "keys = data_to_csv[0].keys()\n",
    "with open('BUSINESS.csv', 'w') as output_file:\n",
    "    dict_writer = csv.DictWriter(output_file, keys)\n",
    "    dict_writer.writeheader()\n",
    "    dict_writer.writerows(data_to_csv)"
   ]
  },
  {
   "cell_type": "code",
   "execution_count": 4,
   "metadata": {},
   "outputs": [],
   "source": [
    "with open(\"yelp_dataset/review.json\", \"r\") as json_file:\n",
    "    data = [json.loads(line) for line in json_file]\n",
    "    review_to_csv = []\n",
    "    k = 0\n",
    "    for i in data:\n",
    "        if k <= 300000:\n",
    "            k += 1\n",
    "            try:\n",
    "                review = {}\n",
    "                review['user_id'] = i['user_id']\n",
    "                review['business_id'] = i['business_id']\n",
    "                review_to_csv.append(review)\n",
    "            except:\n",
    "                continue\n",
    "        else:\n",
    "            break"
   ]
  },
  {
   "cell_type": "code",
   "execution_count": 5,
   "metadata": {},
   "outputs": [],
   "source": [
    "keys = review_to_csv[0].keys()\n",
    "with open('REVIEW.csv', 'w') as output_file:\n",
    "    dict_writer = csv.DictWriter(output_file, keys)\n",
    "    dict_writer.writeheader()\n",
    "    dict_writer.writerows(review_to_csv)"
   ]
  },
  {
   "cell_type": "markdown",
   "metadata": {},
   "source": [
    "### Make database"
   ]
  },
  {
   "cell_type": "code",
   "execution_count": 6,
   "metadata": {},
   "outputs": [],
   "source": [
    "import sqlite3\n",
    "import pandas as pd\n",
    "from pandas import DataFrame"
   ]
  },
  {
   "cell_type": "code",
   "execution_count": 7,
   "metadata": {},
   "outputs": [],
   "source": [
    "conn = sqlite3.connect('yelp.db')  \n",
    "c = conn.cursor()\n",
    "\n",
    "read_business = pd.read_csv('BUSINESS.csv')\n",
    "read_business.to_sql('BUSINESS', conn, if_exists='replace', index = False) \n",
    "\n",
    "read_review = pd.read_csv('REVIEW.csv')\n",
    "read_review.to_sql('REVIEW', conn, if_exists='replace', index = False)\n"
   ]
  },
  {
   "cell_type": "code",
   "execution_count": null,
   "metadata": {},
   "outputs": [],
   "source": []
  }
 ],
 "metadata": {
  "kernelspec": {
   "display_name": "Python 3",
   "language": "python",
   "name": "python3"
  },
  "language_info": {
   "codemirror_mode": {
    "name": "ipython",
    "version": 3
   },
   "file_extension": ".py",
   "mimetype": "text/x-python",
   "name": "python",
   "nbconvert_exporter": "python",
   "pygments_lexer": "ipython3",
   "version": "3.7.4"
  }
 },
 "nbformat": 4,
 "nbformat_minor": 2
}
